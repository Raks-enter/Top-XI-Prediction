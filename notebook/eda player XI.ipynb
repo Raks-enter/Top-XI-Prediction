{
 "cells": [
  {
   "cell_type": "code",
   "execution_count": 1,
   "id": "017e5019",
   "metadata": {},
   "outputs": [],
   "source": [
    "import numpy as np\n",
    "import pandas as pd\n",
    "import matplotlib.pyplot as plt\n",
    "import seaborn as sns\n",
    "%matplotlib inline"
   ]
  },
  {
   "cell_type": "code",
   "execution_count": 2,
   "id": "91bdd9cf",
   "metadata": {},
   "outputs": [],
   "source": [
    "df=pd.read_csv(\"data/odb.csv\")"
   ]
  },
  {
   "cell_type": "code",
   "execution_count": 3,
   "id": "ff12c394",
   "metadata": {},
   "outputs": [
    {
     "data": {
      "text/html": [
       "<div>\n",
       "<style scoped>\n",
       "    .dataframe tbody tr th:only-of-type {\n",
       "        vertical-align: middle;\n",
       "    }\n",
       "\n",
       "    .dataframe tbody tr th {\n",
       "        vertical-align: top;\n",
       "    }\n",
       "\n",
       "    .dataframe thead th {\n",
       "        text-align: right;\n",
       "    }\n",
       "</style>\n",
       "<table border=\"1\" class=\"dataframe\">\n",
       "  <thead>\n",
       "    <tr style=\"text-align: right;\">\n",
       "      <th></th>\n",
       "      <th>Unnamed: 0</th>\n",
       "      <th>Player</th>\n",
       "      <th>Span</th>\n",
       "      <th>Mat</th>\n",
       "      <th>Inns</th>\n",
       "      <th>NO</th>\n",
       "      <th>Runs</th>\n",
       "      <th>HS</th>\n",
       "      <th>Ave</th>\n",
       "      <th>BF</th>\n",
       "      <th>SR</th>\n",
       "      <th>100</th>\n",
       "      <th>50</th>\n",
       "      <th>0</th>\n",
       "      <th>4s</th>\n",
       "      <th>6s</th>\n",
       "    </tr>\n",
       "  </thead>\n",
       "  <tbody>\n",
       "    <tr>\n",
       "      <th>0</th>\n",
       "      <td>0</td>\n",
       "      <td>SR Tendulkar (INDIA)</td>\n",
       "      <td>1989-2012</td>\n",
       "      <td>463</td>\n",
       "      <td>452</td>\n",
       "      <td>41</td>\n",
       "      <td>18426</td>\n",
       "      <td>200*</td>\n",
       "      <td>44.83</td>\n",
       "      <td>21368</td>\n",
       "      <td>86.23</td>\n",
       "      <td>49</td>\n",
       "      <td>96</td>\n",
       "      <td>20</td>\n",
       "      <td>2016</td>\n",
       "      <td>195</td>\n",
       "    </tr>\n",
       "    <tr>\n",
       "      <th>1</th>\n",
       "      <td>1</td>\n",
       "      <td>V Kohli (INDIA)</td>\n",
       "      <td>2008-2021</td>\n",
       "      <td>254</td>\n",
       "      <td>245</td>\n",
       "      <td>39</td>\n",
       "      <td>12169</td>\n",
       "      <td>183</td>\n",
       "      <td>59.07</td>\n",
       "      <td>13061</td>\n",
       "      <td>93.17</td>\n",
       "      <td>43</td>\n",
       "      <td>62</td>\n",
       "      <td>13</td>\n",
       "      <td>1140</td>\n",
       "      <td>125</td>\n",
       "    </tr>\n",
       "    <tr>\n",
       "      <th>2</th>\n",
       "      <td>2</td>\n",
       "      <td>RT Ponting (AUS/ICC)</td>\n",
       "      <td>1995-2012</td>\n",
       "      <td>375</td>\n",
       "      <td>365</td>\n",
       "      <td>39</td>\n",
       "      <td>13704</td>\n",
       "      <td>164</td>\n",
       "      <td>42.03</td>\n",
       "      <td>17046</td>\n",
       "      <td>80.39</td>\n",
       "      <td>30</td>\n",
       "      <td>82</td>\n",
       "      <td>20</td>\n",
       "      <td>1231</td>\n",
       "      <td>162</td>\n",
       "    </tr>\n",
       "    <tr>\n",
       "      <th>3</th>\n",
       "      <td>3</td>\n",
       "      <td>RG Sharma (INDIA)</td>\n",
       "      <td>2007-2021</td>\n",
       "      <td>227</td>\n",
       "      <td>220</td>\n",
       "      <td>32</td>\n",
       "      <td>9205</td>\n",
       "      <td>264</td>\n",
       "      <td>48.96</td>\n",
       "      <td>10354</td>\n",
       "      <td>88.90</td>\n",
       "      <td>29</td>\n",
       "      <td>43</td>\n",
       "      <td>13</td>\n",
       "      <td>832</td>\n",
       "      <td>244</td>\n",
       "    </tr>\n",
       "    <tr>\n",
       "      <th>4</th>\n",
       "      <td>4</td>\n",
       "      <td>ST Jayasuriya (Asia/SL)</td>\n",
       "      <td>1989-2011</td>\n",
       "      <td>445</td>\n",
       "      <td>433</td>\n",
       "      <td>18</td>\n",
       "      <td>13430</td>\n",
       "      <td>189</td>\n",
       "      <td>32.36</td>\n",
       "      <td>14725</td>\n",
       "      <td>91.20</td>\n",
       "      <td>28</td>\n",
       "      <td>68</td>\n",
       "      <td>34</td>\n",
       "      <td>1500</td>\n",
       "      <td>270</td>\n",
       "    </tr>\n",
       "  </tbody>\n",
       "</table>\n",
       "</div>"
      ],
      "text/plain": [
       "   Unnamed: 0                   Player       Span  Mat  Inns  NO   Runs    HS  \\\n",
       "0           0     SR Tendulkar (INDIA)  1989-2012  463   452  41  18426  200*   \n",
       "1           1          V Kohli (INDIA)  2008-2021  254   245  39  12169   183   \n",
       "2           2     RT Ponting (AUS/ICC)  1995-2012  375   365  39  13704   164   \n",
       "3           3        RG Sharma (INDIA)  2007-2021  227   220  32   9205   264   \n",
       "4           4  ST Jayasuriya (Asia/SL)  1989-2011  445   433  18  13430   189   \n",
       "\n",
       "     Ave     BF     SR  100  50   0    4s   6s  \n",
       "0  44.83  21368  86.23   49  96  20  2016  195  \n",
       "1  59.07  13061  93.17   43  62  13  1140  125  \n",
       "2  42.03  17046  80.39   30  82  20  1231  162  \n",
       "3  48.96  10354  88.90   29  43  13   832  244  \n",
       "4  32.36  14725  91.20   28  68  34  1500  270  "
      ]
     },
     "execution_count": 3,
     "metadata": {},
     "output_type": "execute_result"
    }
   ],
   "source": [
    "df.head()"
   ]
  },
  {
   "cell_type": "code",
   "execution_count": 4,
   "id": "72bc2656",
   "metadata": {},
   "outputs": [
    {
     "data": {
      "text/plain": [
       "Unnamed: 0      int64\n",
       "Player         object\n",
       "Span           object\n",
       "Mat             int64\n",
       "Inns            int64\n",
       "NO              int64\n",
       "Runs            int64\n",
       "HS             object\n",
       "Ave           float64\n",
       "BF              int64\n",
       "SR            float64\n",
       "100             int64\n",
       "50              int64\n",
       "0               int64\n",
       "4s             object\n",
       "6s             object\n",
       "dtype: object"
      ]
     },
     "execution_count": 4,
     "metadata": {},
     "output_type": "execute_result"
    }
   ],
   "source": [
    "df.dtypes"
   ]
  },
  {
   "cell_type": "code",
   "execution_count": 5,
   "id": "b52de387",
   "metadata": {},
   "outputs": [
    {
     "data": {
      "text/plain": [
       "Unnamed: 0    0\n",
       "Player        0\n",
       "Span          0\n",
       "Mat           0\n",
       "Inns          0\n",
       "NO            0\n",
       "Runs          0\n",
       "HS            0\n",
       "Ave           0\n",
       "BF            0\n",
       "SR            0\n",
       "100           0\n",
       "50            0\n",
       "0             0\n",
       "4s            0\n",
       "6s            0\n",
       "dtype: int64"
      ]
     },
     "execution_count": 5,
     "metadata": {},
     "output_type": "execute_result"
    }
   ],
   "source": [
    "df.isnull().sum()"
   ]
  },
  {
   "cell_type": "code",
   "execution_count": 6,
   "id": "c8f99fbc",
   "metadata": {},
   "outputs": [],
   "source": [
    "df.drop(['Span','NO','Unnamed: 0'],axis=1,inplace=True)"
   ]
  },
  {
   "cell_type": "code",
   "execution_count": 7,
   "id": "8ddcb98e",
   "metadata": {},
   "outputs": [
    {
     "data": {
      "text/plain": [
       "Index(['Player', 'Mat', 'Inns', 'Runs', 'HS', 'Ave', 'BF', 'SR', '100', '50',\n",
       "       '0', '4s', '6s'],\n",
       "      dtype='object')"
      ]
     },
     "execution_count": 7,
     "metadata": {},
     "output_type": "execute_result"
    }
   ],
   "source": [
    "df.columns"
   ]
  },
  {
   "cell_type": "code",
   "execution_count": 8,
   "id": "ad2d32ba",
   "metadata": {},
   "outputs": [],
   "source": [
    "df['HS'] = df['HS'].replace(r\"\\*\", \"\", regex=True)"
   ]
  },
  {
   "cell_type": "code",
   "execution_count": 9,
   "id": "6749988e",
   "metadata": {},
   "outputs": [
    {
     "data": {
      "text/plain": [
       "Player     object\n",
       "Mat         int64\n",
       "Inns        int64\n",
       "Runs        int64\n",
       "HS         object\n",
       "Ave       float64\n",
       "BF          int64\n",
       "SR        float64\n",
       "100         int64\n",
       "50          int64\n",
       "0           int64\n",
       "4s         object\n",
       "6s         object\n",
       "dtype: object"
      ]
     },
     "execution_count": 9,
     "metadata": {},
     "output_type": "execute_result"
    }
   ],
   "source": [
    "df.dtypes"
   ]
  },
  {
   "cell_type": "code",
   "execution_count": 10,
   "id": "827e92a4",
   "metadata": {},
   "outputs": [],
   "source": [
    "df['HS'] = pd.to_numeric(df['HS'], errors='coerce')\n",
    "# Clean the 'HS' column in the EDA phase by removing non-numeric characters and converting to float\n",
    "df['HS'] = df['HS'].replace(to_replace=r'\\D', value='', regex=True).astype(float)"
   ]
  },
  {
   "cell_type": "code",
   "execution_count": 11,
   "id": "043ea630",
   "metadata": {},
   "outputs": [],
   "source": [
    "# Clean the 'HS' column in the data by removing non-numeric characters and converting to float\n",
    "df['HS'] = df['HS'].replace(to_replace=r'\\D', value='', regex=True)  # Remove non-numeric characters\n",
    "df['HS'] = pd.to_numeric(df['HS'], errors='coerce')  # Convert to numeric, invalid parsing will be NaN"
   ]
  },
  {
   "cell_type": "code",
   "execution_count": 12,
   "id": "4714273a",
   "metadata": {},
   "outputs": [],
   "source": [
    "df['4s'] = pd.to_numeric(df['4s'], errors='coerce')\n",
    "df['6s'] = pd.to_numeric(df['6s'], errors='coerce')"
   ]
  },
  {
   "cell_type": "code",
   "execution_count": 13,
   "id": "a6507dd8",
   "metadata": {},
   "outputs": [
    {
     "data": {
      "text/plain": [
       "Player     object\n",
       "Mat         int64\n",
       "Inns        int64\n",
       "Runs        int64\n",
       "HS        float64\n",
       "Ave       float64\n",
       "BF          int64\n",
       "SR        float64\n",
       "100         int64\n",
       "50          int64\n",
       "0           int64\n",
       "4s        float64\n",
       "6s        float64\n",
       "dtype: object"
      ]
     },
     "execution_count": 13,
     "metadata": {},
     "output_type": "execute_result"
    }
   ],
   "source": [
    "df.dtypes"
   ]
  },
  {
   "cell_type": "code",
   "execution_count": null,
   "id": "e09705d3",
   "metadata": {},
   "outputs": [],
   "source": [
    "\n",
    "df['Player']=df['Player']"
   ]
  }
 ],
 "metadata": {
  "kernelspec": {
   "display_name": "Python 3",
   "language": "python",
   "name": "python3"
  },
  "language_info": {
   "codemirror_mode": {
    "name": "ipython",
    "version": 3
   },
   "file_extension": ".py",
   "mimetype": "text/x-python",
   "name": "python",
   "nbconvert_exporter": "python",
   "pygments_lexer": "ipython3",
   "version": "3.10.18"
  }
 },
 "nbformat": 4,
 "nbformat_minor": 5
}
